{
  "nbformat": 4,
  "nbformat_minor": 0,
  "metadata": {
    "colab": {
      "name": "AirBnB_Assignment2.ipynb",
      "provenance": [],
      "collapsed_sections": [],
      "mount_file_id": "1Y-wSw7k0Vf4FYfpgpgcXh0KIP1iBInyD",
      "authorship_tag": "ABX9TyM1YsUMEKl9Yd15Yk5elUCs",
      "include_colab_link": true
    },
    "kernelspec": {
      "name": "python3",
      "display_name": "Python 3"
    }
  },
  "cells": [
    {
      "cell_type": "markdown",
      "metadata": {
        "id": "view-in-github",
        "colab_type": "text"
      },
      "source": [
        "<a href=\"https://colab.research.google.com/github/nishithkumar11/Analysis/blob/master/AirBnB_Assignment2.ipynb\" target=\"_parent\"><img src=\"https://colab.research.google.com/assets/colab-badge.svg\" alt=\"Open In Colab\"/></a>"
      ]
    },
    {
      "cell_type": "code",
      "metadata": {
        "id": "KimztrOeuyBP",
        "colab_type": "code",
        "colab": {}
      },
      "source": [
        "#Importing the libraries to be used further\n",
        "import pandas as pd\n",
        "import seaborn as sb"
      ],
      "execution_count": 0,
      "outputs": []
    },
    {
      "cell_type": "code",
      "metadata": {
        "id": "P1vWZJG_tja6",
        "colab_type": "code",
        "outputId": "d622a71e-34f1-46f2-a52f-91f9cf902176",
        "colab": {
          "base_uri": "https://localhost:8080/",
          "height": 121
        }
      },
      "source": [
        "#Importing the data from google drive post authentication\n",
        "from google.colab import drive\n",
        "drive.mount('/content/drive')"
      ],
      "execution_count": 0,
      "outputs": [
        {
          "output_type": "stream",
          "text": [
            "Go to this URL in a browser: https://accounts.google.com/o/oauth2/auth?client_id=947318989803-6bn6qk8qdgf4n4g3pfee6491hc0brc4i.apps.googleusercontent.com&redirect_uri=urn%3aietf%3awg%3aoauth%3a2.0%3aoob&response_type=code&scope=email%20https%3a%2f%2fwww.googleapis.com%2fauth%2fdocs.test%20https%3a%2f%2fwww.googleapis.com%2fauth%2fdrive%20https%3a%2f%2fwww.googleapis.com%2fauth%2fdrive.photos.readonly%20https%3a%2f%2fwww.googleapis.com%2fauth%2fpeopleapi.readonly\n",
            "\n",
            "Enter your authorization code:\n",
            "··········\n",
            "Mounted at /content/drive\n"
          ],
          "name": "stdout"
        }
      ]
    },
    {
      "cell_type": "code",
      "metadata": {
        "id": "AlHHXRJbxC33",
        "colab_type": "code",
        "colab": {}
      },
      "source": [
        "#Loading the data from CSV to dataframe\n",
        "path = \"/content/drive/My Drive/Data/tomslee_airbnb_nyc_train.csv\"\n",
        "data_frm = pd.read_csv(path,engine=\"python\",encoding='utf-8')"
      ],
      "execution_count": 0,
      "outputs": []
    },
    {
      "cell_type": "code",
      "metadata": {
        "id": "--jxHjEw1sZR",
        "colab_type": "code",
        "outputId": "7165bca7-4593-44fb-8aba-8cd55f693f58",
        "colab": {
          "base_uri": "https://localhost:8080/",
          "height": 34
        }
      },
      "source": [
        "#Getting number of coulmns and rows\n",
        "data_frm.shape"
      ],
      "execution_count": 70,
      "outputs": [
        {
          "output_type": "execute_result",
          "data": {
            "text/plain": [
              "(882000, 14)"
            ]
          },
          "metadata": {
            "tags": []
          },
          "execution_count": 70
        }
      ]
    },
    {
      "cell_type": "code",
      "metadata": {
        "id": "NJA8OkVN0EdH",
        "colab_type": "code",
        "outputId": "04b4e554-0907-488d-99cd-4f05390fef3b",
        "colab": {
          "base_uri": "https://localhost:8080/",
          "height": 343
        }
      },
      "source": [
        " #\n",
        " data_frm.head(10)"
      ],
      "execution_count": 71,
      "outputs": [
        {
          "output_type": "execute_result",
          "data": {
            "text/html": [
              "<div>\n",
              "<style scoped>\n",
              "    .dataframe tbody tr th:only-of-type {\n",
              "        vertical-align: middle;\n",
              "    }\n",
              "\n",
              "    .dataframe tbody tr th {\n",
              "        vertical-align: top;\n",
              "    }\n",
              "\n",
              "    .dataframe thead th {\n",
              "        text-align: right;\n",
              "    }\n",
              "</style>\n",
              "<table border=\"1\" class=\"dataframe\">\n",
              "  <thead>\n",
              "    <tr style=\"text-align: right;\">\n",
              "      <th></th>\n",
              "      <th>room_id</th>\n",
              "      <th>host_id</th>\n",
              "      <th>room_type</th>\n",
              "      <th>borough</th>\n",
              "      <th>neighborhood</th>\n",
              "      <th>reviews</th>\n",
              "      <th>accommodates</th>\n",
              "      <th>bedrooms</th>\n",
              "      <th>price</th>\n",
              "      <th>minstay</th>\n",
              "      <th>latitude</th>\n",
              "      <th>longitude</th>\n",
              "      <th>last_modified</th>\n",
              "      <th>overall_satisfaction</th>\n",
              "    </tr>\n",
              "  </thead>\n",
              "  <tbody>\n",
              "    <tr>\n",
              "      <th>0</th>\n",
              "      <td>105</td>\n",
              "      <td>500.0</td>\n",
              "      <td>Private room</td>\n",
              "      <td>Manhattan</td>\n",
              "      <td>Hell's Kitchen</td>\n",
              "      <td>39.0</td>\n",
              "      <td>7.0</td>\n",
              "      <td>1.0</td>\n",
              "      <td>167.0</td>\n",
              "      <td>1.0</td>\n",
              "      <td>40.762099</td>\n",
              "      <td>-73.996022</td>\n",
              "      <td>5/12/17 8:56 AM</td>\n",
              "      <td>5.0</td>\n",
              "    </tr>\n",
              "    <tr>\n",
              "      <th>1</th>\n",
              "      <td>2515</td>\n",
              "      <td>2758.0</td>\n",
              "      <td>Private room</td>\n",
              "      <td>Manhattan</td>\n",
              "      <td>Harlem</td>\n",
              "      <td>95.0</td>\n",
              "      <td>2.0</td>\n",
              "      <td>1.0</td>\n",
              "      <td>55.0</td>\n",
              "      <td>2.0</td>\n",
              "      <td>40.799205</td>\n",
              "      <td>-73.953676</td>\n",
              "      <td>5/12/17 6:11 PM</td>\n",
              "      <td>4.5</td>\n",
              "    </tr>\n",
              "    <tr>\n",
              "      <th>2</th>\n",
              "      <td>2993</td>\n",
              "      <td>3352.0</td>\n",
              "      <td>Entire home/apt</td>\n",
              "      <td>Manhattan</td>\n",
              "      <td>Lower East Side</td>\n",
              "      <td>0.0</td>\n",
              "      <td>2.0</td>\n",
              "      <td>1.0</td>\n",
              "      <td>168.0</td>\n",
              "      <td>5.0</td>\n",
              "      <td>40.723593</td>\n",
              "      <td>-73.991188</td>\n",
              "      <td>5/12/17 3:16 PM</td>\n",
              "      <td>NaN</td>\n",
              "    </tr>\n",
              "    <tr>\n",
              "      <th>3</th>\n",
              "      <td>3046</td>\n",
              "      <td>2758.0</td>\n",
              "      <td>Entire home/apt</td>\n",
              "      <td>Manhattan</td>\n",
              "      <td>Harlem</td>\n",
              "      <td>10.0</td>\n",
              "      <td>6.0</td>\n",
              "      <td>1.0</td>\n",
              "      <td>298.0</td>\n",
              "      <td>3.0</td>\n",
              "      <td>40.813498</td>\n",
              "      <td>-73.945873</td>\n",
              "      <td>5/12/17 7:47 PM</td>\n",
              "      <td>4.5</td>\n",
              "    </tr>\n",
              "    <tr>\n",
              "      <th>4</th>\n",
              "      <td>3101</td>\n",
              "      <td>2758.0</td>\n",
              "      <td>Private room</td>\n",
              "      <td>Manhattan</td>\n",
              "      <td>Harlem</td>\n",
              "      <td>11.0</td>\n",
              "      <td>2.0</td>\n",
              "      <td>1.0</td>\n",
              "      <td>140.0</td>\n",
              "      <td>2.0</td>\n",
              "      <td>40.813628</td>\n",
              "      <td>-73.946299</td>\n",
              "      <td>5/12/17 12:57 AM</td>\n",
              "      <td>4.5</td>\n",
              "    </tr>\n",
              "    <tr>\n",
              "      <th>5</th>\n",
              "      <td>3102</td>\n",
              "      <td>2758.0</td>\n",
              "      <td>Private room</td>\n",
              "      <td>Manhattan</td>\n",
              "      <td>Harlem</td>\n",
              "      <td>23.0</td>\n",
              "      <td>4.0</td>\n",
              "      <td>1.0</td>\n",
              "      <td>212.0</td>\n",
              "      <td>2.0</td>\n",
              "      <td>40.814100</td>\n",
              "      <td>-73.945891</td>\n",
              "      <td>5/12/17 1:03 AM</td>\n",
              "      <td>5.0</td>\n",
              "    </tr>\n",
              "    <tr>\n",
              "      <th>6</th>\n",
              "      <td>3153</td>\n",
              "      <td>3690.0</td>\n",
              "      <td>Private room</td>\n",
              "      <td>Queens</td>\n",
              "      <td>Astoria</td>\n",
              "      <td>33.0</td>\n",
              "      <td>2.0</td>\n",
              "      <td>1.0</td>\n",
              "      <td>112.0</td>\n",
              "      <td>1.0</td>\n",
              "      <td>40.759736</td>\n",
              "      <td>-73.906151</td>\n",
              "      <td>5/12/17 5:13 AM</td>\n",
              "      <td>5.0</td>\n",
              "    </tr>\n",
              "    <tr>\n",
              "      <th>7</th>\n",
              "      <td>3687</td>\n",
              "      <td>4647.0</td>\n",
              "      <td>Entire home/apt</td>\n",
              "      <td>Brooklyn</td>\n",
              "      <td>Bedford-Stuyvesant</td>\n",
              "      <td>43.0</td>\n",
              "      <td>3.0</td>\n",
              "      <td>NaN</td>\n",
              "      <td>100.0</td>\n",
              "      <td>7.0</td>\n",
              "      <td>40.678300</td>\n",
              "      <td>-73.944627</td>\n",
              "      <td>5/12/17 8:45 AM</td>\n",
              "      <td>4.5</td>\n",
              "    </tr>\n",
              "    <tr>\n",
              "      <th>8</th>\n",
              "      <td>3831</td>\n",
              "      <td>4869.0</td>\n",
              "      <td>Private room</td>\n",
              "      <td>Brooklyn</td>\n",
              "      <td>Clinton Hill</td>\n",
              "      <td>0.0</td>\n",
              "      <td>3.0</td>\n",
              "      <td>1.0</td>\n",
              "      <td>112.0</td>\n",
              "      <td>1.0</td>\n",
              "      <td>40.685138</td>\n",
              "      <td>-73.959757</td>\n",
              "      <td>5/12/17 9:15 PM</td>\n",
              "      <td>NaN</td>\n",
              "    </tr>\n",
              "    <tr>\n",
              "      <th>9</th>\n",
              "      <td>4573</td>\n",
              "      <td>5871.0</td>\n",
              "      <td>Entire home/apt</td>\n",
              "      <td>Brooklyn</td>\n",
              "      <td>Crown Heights</td>\n",
              "      <td>3.0</td>\n",
              "      <td>6.0</td>\n",
              "      <td>2.0</td>\n",
              "      <td>202.0</td>\n",
              "      <td>3.0</td>\n",
              "      <td>40.674376</td>\n",
              "      <td>-73.933990</td>\n",
              "      <td>5/12/17 7:01 PM</td>\n",
              "      <td>4.0</td>\n",
              "    </tr>\n",
              "  </tbody>\n",
              "</table>\n",
              "</div>"
            ],
            "text/plain": [
              "   room_id  host_id  ...     last_modified overall_satisfaction\n",
              "0      105    500.0  ...   5/12/17 8:56 AM                  5.0\n",
              "1     2515   2758.0  ...   5/12/17 6:11 PM                  4.5\n",
              "2     2993   3352.0  ...   5/12/17 3:16 PM                  NaN\n",
              "3     3046   2758.0  ...   5/12/17 7:47 PM                  4.5\n",
              "4     3101   2758.0  ...  5/12/17 12:57 AM                  4.5\n",
              "5     3102   2758.0  ...   5/12/17 1:03 AM                  5.0\n",
              "6     3153   3690.0  ...   5/12/17 5:13 AM                  5.0\n",
              "7     3687   4647.0  ...   5/12/17 8:45 AM                  4.5\n",
              "8     3831   4869.0  ...   5/12/17 9:15 PM                  NaN\n",
              "9     4573   5871.0  ...   5/12/17 7:01 PM                  4.0\n",
              "\n",
              "[10 rows x 14 columns]"
            ]
          },
          "metadata": {
            "tags": []
          },
          "execution_count": 71
        }
      ]
    },
    {
      "cell_type": "code",
      "metadata": {
        "id": "cYNxFsM52W-K",
        "colab_type": "code",
        "outputId": "9a6033ac-5b17-4a30-f50c-67d8b4e2f461",
        "colab": {
          "base_uri": "https://localhost:8080/",
          "height": 269
        }
      },
      "source": [
        "#Checking for datatypes of columns\n",
        "data_frm.dtypes"
      ],
      "execution_count": 72,
      "outputs": [
        {
          "output_type": "execute_result",
          "data": {
            "text/plain": [
              "room_id                   int64\n",
              "host_id                 float64\n",
              "room_type                object\n",
              "borough                  object\n",
              "neighborhood             object\n",
              "reviews                 float64\n",
              "accommodates            float64\n",
              "bedrooms                float64\n",
              "price                   float64\n",
              "minstay                 float64\n",
              "latitude                float64\n",
              "longitude               float64\n",
              "last_modified            object\n",
              "overall_satisfaction    float64\n",
              "dtype: object"
            ]
          },
          "metadata": {
            "tags": []
          },
          "execution_count": 72
        }
      ]
    },
    {
      "cell_type": "code",
      "metadata": {
        "id": "VR4-awmP2cZ-",
        "colab_type": "code",
        "outputId": "85fc37e4-b35d-44e9-8a24-ae0a8142ea4a",
        "colab": {
          "base_uri": "https://localhost:8080/",
          "height": 269
        }
      },
      "source": [
        "#Checking the total NULL values for each column\n",
        "data_frm.isnull().sum()"
      ],
      "execution_count": 73,
      "outputs": [
        {
          "output_type": "execute_result",
          "data": {
            "text/plain": [
              "room_id                      0\n",
              "host_id                    280\n",
              "room_type                  318\n",
              "borough                      0\n",
              "neighborhood                 0\n",
              "reviews                   5721\n",
              "accommodates             37492\n",
              "bedrooms                 53195\n",
              "price                        0\n",
              "minstay                 167337\n",
              "latitude                     0\n",
              "longitude                    0\n",
              "last_modified                0\n",
              "overall_satisfaction    250359\n",
              "dtype: int64"
            ]
          },
          "metadata": {
            "tags": []
          },
          "execution_count": 73
        }
      ]
    },
    {
      "cell_type": "code",
      "metadata": {
        "id": "Am6X6KVnoW4t",
        "colab_type": "code",
        "colab": {}
      },
      "source": [
        "#Removing records with NULL valaues and storing in separate dataframe\n",
        "df_clean=data_frm.dropna(axis=0,how='any')\n",
        "data_frm.to_csv('AirBnB_CleanData')\n"
      ],
      "execution_count": 0,
      "outputs": []
    },
    {
      "cell_type": "code",
      "metadata": {
        "id": "dpAVS4PnahVr",
        "colab_type": "code",
        "outputId": "ca7e6c23-b634-4d77-ac88-23383bb4463c",
        "colab": {
          "base_uri": "https://localhost:8080/",
          "height": 269
        }
      },
      "source": [
        "df_clean.isnull().sum()"
      ],
      "execution_count": 75,
      "outputs": [
        {
          "output_type": "execute_result",
          "data": {
            "text/plain": [
              "room_id                 0\n",
              "host_id                 0\n",
              "room_type               0\n",
              "borough                 0\n",
              "neighborhood            0\n",
              "reviews                 0\n",
              "accommodates            0\n",
              "bedrooms                0\n",
              "price                   0\n",
              "minstay                 0\n",
              "latitude                0\n",
              "longitude               0\n",
              "last_modified           0\n",
              "overall_satisfaction    0\n",
              "dtype: int64"
            ]
          },
          "metadata": {
            "tags": []
          },
          "execution_count": 75
        }
      ]
    },
    {
      "cell_type": "code",
      "metadata": {
        "id": "n5nVRngbGE2F",
        "colab_type": "code",
        "colab": {
          "base_uri": "https://localhost:8080/",
          "height": 34
        },
        "outputId": "24933dda-4d93-40da-e4e1-1cd0cc805a72"
      },
      "source": [
        "df_clean.shape"
      ],
      "execution_count": 76,
      "outputs": [
        {
          "output_type": "execute_result",
          "data": {
            "text/plain": [
              "(417928, 14)"
            ]
          },
          "metadata": {
            "tags": []
          },
          "execution_count": 76
        }
      ]
    },
    {
      "cell_type": "code",
      "metadata": {
        "id": "8IUdfix5xsae",
        "colab_type": "code",
        "outputId": "337feedf-ea07-4798-ca9b-ab0c5837856f",
        "colab": {
          "base_uri": "https://localhost:8080/",
          "height": 284
        }
      },
      "source": [
        "df_clean[['reviews','accommodates','bedrooms','price','minstay','overall_satisfaction']].describe()"
      ],
      "execution_count": 0,
      "outputs": [
        {
          "output_type": "execute_result",
          "data": {
            "text/html": [
              "<div>\n",
              "<style scoped>\n",
              "    .dataframe tbody tr th:only-of-type {\n",
              "        vertical-align: middle;\n",
              "    }\n",
              "\n",
              "    .dataframe tbody tr th {\n",
              "        vertical-align: top;\n",
              "    }\n",
              "\n",
              "    .dataframe thead th {\n",
              "        text-align: right;\n",
              "    }\n",
              "</style>\n",
              "<table border=\"1\" class=\"dataframe\">\n",
              "  <thead>\n",
              "    <tr style=\"text-align: right;\">\n",
              "      <th></th>\n",
              "      <th>reviews</th>\n",
              "      <th>accommodates</th>\n",
              "      <th>bedrooms</th>\n",
              "      <th>price</th>\n",
              "      <th>minstay</th>\n",
              "      <th>overall_satisfaction</th>\n",
              "    </tr>\n",
              "  </thead>\n",
              "  <tbody>\n",
              "    <tr>\n",
              "      <th>count</th>\n",
              "      <td>417928.000000</td>\n",
              "      <td>417928.000000</td>\n",
              "      <td>417928.000000</td>\n",
              "      <td>417928.000000</td>\n",
              "      <td>417928.000000</td>\n",
              "      <td>417928.000000</td>\n",
              "    </tr>\n",
              "    <tr>\n",
              "      <th>mean</th>\n",
              "      <td>18.448053</td>\n",
              "      <td>2.773210</td>\n",
              "      <td>1.084802</td>\n",
              "      <td>151.705002</td>\n",
              "      <td>3.950743</td>\n",
              "      <td>4.647200</td>\n",
              "    </tr>\n",
              "    <tr>\n",
              "      <th>std</th>\n",
              "      <td>26.242731</td>\n",
              "      <td>1.545152</td>\n",
              "      <td>0.589844</td>\n",
              "      <td>175.574107</td>\n",
              "      <td>687.531193</td>\n",
              "      <td>0.429778</td>\n",
              "    </tr>\n",
              "    <tr>\n",
              "      <th>min</th>\n",
              "      <td>0.000000</td>\n",
              "      <td>1.000000</td>\n",
              "      <td>0.000000</td>\n",
              "      <td>10.000000</td>\n",
              "      <td>1.000000</td>\n",
              "      <td>1.000000</td>\n",
              "    </tr>\n",
              "    <tr>\n",
              "      <th>25%</th>\n",
              "      <td>3.000000</td>\n",
              "      <td>2.000000</td>\n",
              "      <td>1.000000</td>\n",
              "      <td>80.000000</td>\n",
              "      <td>1.000000</td>\n",
              "      <td>4.500000</td>\n",
              "    </tr>\n",
              "    <tr>\n",
              "      <th>50%</th>\n",
              "      <td>8.000000</td>\n",
              "      <td>2.000000</td>\n",
              "      <td>1.000000</td>\n",
              "      <td>121.000000</td>\n",
              "      <td>2.000000</td>\n",
              "      <td>4.500000</td>\n",
              "    </tr>\n",
              "    <tr>\n",
              "      <th>75%</th>\n",
              "      <td>22.000000</td>\n",
              "      <td>4.000000</td>\n",
              "      <td>1.000000</td>\n",
              "      <td>185.000000</td>\n",
              "      <td>3.000000</td>\n",
              "      <td>5.000000</td>\n",
              "    </tr>\n",
              "    <tr>\n",
              "      <th>max</th>\n",
              "      <td>366.000000</td>\n",
              "      <td>16.000000</td>\n",
              "      <td>10.000000</td>\n",
              "      <td>15000.000000</td>\n",
              "      <td>444443.000000</td>\n",
              "      <td>5.000000</td>\n",
              "    </tr>\n",
              "  </tbody>\n",
              "</table>\n",
              "</div>"
            ],
            "text/plain": [
              "             reviews   accommodates  ...        minstay  overall_satisfaction\n",
              "count  417928.000000  417928.000000  ...  417928.000000         417928.000000\n",
              "mean       18.448053       2.773210  ...       3.950743              4.647200\n",
              "std        26.242731       1.545152  ...     687.531193              0.429778\n",
              "min         0.000000       1.000000  ...       1.000000              1.000000\n",
              "25%         3.000000       2.000000  ...       1.000000              4.500000\n",
              "50%         8.000000       2.000000  ...       2.000000              4.500000\n",
              "75%        22.000000       4.000000  ...       3.000000              5.000000\n",
              "max       366.000000      16.000000  ...  444443.000000              5.000000\n",
              "\n",
              "[8 rows x 6 columns]"
            ]
          },
          "metadata": {
            "tags": []
          },
          "execution_count": 20
        }
      ]
    },
    {
      "cell_type": "code",
      "metadata": {
        "id": "X6p5GscaEr2a",
        "colab_type": "code",
        "outputId": "7cd4b346-b556-47d9-cac0-a81ad52847fa",
        "colab": {
          "base_uri": "https://localhost:8080/",
          "height": 343
        }
      },
      "source": [
        "df_clean.corr(method='pearson',min_periods=1)"
      ],
      "execution_count": 0,
      "outputs": [
        {
          "output_type": "execute_result",
          "data": {
            "text/html": [
              "<div>\n",
              "<style scoped>\n",
              "    .dataframe tbody tr th:only-of-type {\n",
              "        vertical-align: middle;\n",
              "    }\n",
              "\n",
              "    .dataframe tbody tr th {\n",
              "        vertical-align: top;\n",
              "    }\n",
              "\n",
              "    .dataframe thead th {\n",
              "        text-align: right;\n",
              "    }\n",
              "</style>\n",
              "<table border=\"1\" class=\"dataframe\">\n",
              "  <thead>\n",
              "    <tr style=\"text-align: right;\">\n",
              "      <th></th>\n",
              "      <th>room_id</th>\n",
              "      <th>host_id</th>\n",
              "      <th>reviews</th>\n",
              "      <th>accommodates</th>\n",
              "      <th>bedrooms</th>\n",
              "      <th>price</th>\n",
              "      <th>minstay</th>\n",
              "      <th>latitude</th>\n",
              "      <th>longitude</th>\n",
              "      <th>overall_satisfaction</th>\n",
              "    </tr>\n",
              "  </thead>\n",
              "  <tbody>\n",
              "    <tr>\n",
              "      <th>room_id</th>\n",
              "      <td>1.000000</td>\n",
              "      <td>0.662910</td>\n",
              "      <td>-0.319680</td>\n",
              "      <td>-0.018116</td>\n",
              "      <td>-0.052213</td>\n",
              "      <td>-0.097726</td>\n",
              "      <td>-0.001795</td>\n",
              "      <td>0.008432</td>\n",
              "      <td>0.087574</td>\n",
              "      <td>-0.015395</td>\n",
              "    </tr>\n",
              "    <tr>\n",
              "      <th>host_id</th>\n",
              "      <td>0.662910</td>\n",
              "      <td>1.000000</td>\n",
              "      <td>-0.189155</td>\n",
              "      <td>-0.002814</td>\n",
              "      <td>-0.032185</td>\n",
              "      <td>-0.073037</td>\n",
              "      <td>-0.001020</td>\n",
              "      <td>0.045435</td>\n",
              "      <td>0.112137</td>\n",
              "      <td>-0.047833</td>\n",
              "    </tr>\n",
              "    <tr>\n",
              "      <th>reviews</th>\n",
              "      <td>-0.319680</td>\n",
              "      <td>-0.189155</td>\n",
              "      <td>1.000000</td>\n",
              "      <td>0.050320</td>\n",
              "      <td>0.014847</td>\n",
              "      <td>-0.037890</td>\n",
              "      <td>-0.001408</td>\n",
              "      <td>0.012293</td>\n",
              "      <td>0.007784</td>\n",
              "      <td>-0.009176</td>\n",
              "    </tr>\n",
              "    <tr>\n",
              "      <th>accommodates</th>\n",
              "      <td>-0.018116</td>\n",
              "      <td>-0.002814</td>\n",
              "      <td>0.050320</td>\n",
              "      <td>1.000000</td>\n",
              "      <td>0.570979</td>\n",
              "      <td>0.315392</td>\n",
              "      <td>0.001073</td>\n",
              "      <td>-0.037800</td>\n",
              "      <td>-0.011435</td>\n",
              "      <td>-0.040630</td>\n",
              "    </tr>\n",
              "    <tr>\n",
              "      <th>bedrooms</th>\n",
              "      <td>-0.052213</td>\n",
              "      <td>-0.032185</td>\n",
              "      <td>0.014847</td>\n",
              "      <td>0.570979</td>\n",
              "      <td>1.000000</td>\n",
              "      <td>0.250163</td>\n",
              "      <td>0.002392</td>\n",
              "      <td>-0.078731</td>\n",
              "      <td>0.035018</td>\n",
              "      <td>-0.014006</td>\n",
              "    </tr>\n",
              "    <tr>\n",
              "      <th>price</th>\n",
              "      <td>-0.097726</td>\n",
              "      <td>-0.073037</td>\n",
              "      <td>-0.037890</td>\n",
              "      <td>0.315392</td>\n",
              "      <td>0.250163</td>\n",
              "      <td>1.000000</td>\n",
              "      <td>0.001146</td>\n",
              "      <td>0.034587</td>\n",
              "      <td>-0.199874</td>\n",
              "      <td>0.058781</td>\n",
              "    </tr>\n",
              "    <tr>\n",
              "      <th>minstay</th>\n",
              "      <td>-0.001795</td>\n",
              "      <td>-0.001020</td>\n",
              "      <td>-0.001408</td>\n",
              "      <td>0.001073</td>\n",
              "      <td>0.002392</td>\n",
              "      <td>0.001146</td>\n",
              "      <td>1.000000</td>\n",
              "      <td>-0.000951</td>\n",
              "      <td>0.001812</td>\n",
              "      <td>0.001309</td>\n",
              "    </tr>\n",
              "    <tr>\n",
              "      <th>latitude</th>\n",
              "      <td>0.008432</td>\n",
              "      <td>0.045435</td>\n",
              "      <td>0.012293</td>\n",
              "      <td>-0.037800</td>\n",
              "      <td>-0.078731</td>\n",
              "      <td>0.034587</td>\n",
              "      <td>-0.000951</td>\n",
              "      <td>1.000000</td>\n",
              "      <td>0.112828</td>\n",
              "      <td>-0.015933</td>\n",
              "    </tr>\n",
              "    <tr>\n",
              "      <th>longitude</th>\n",
              "      <td>0.087574</td>\n",
              "      <td>0.112137</td>\n",
              "      <td>0.007784</td>\n",
              "      <td>-0.011435</td>\n",
              "      <td>0.035018</td>\n",
              "      <td>-0.199874</td>\n",
              "      <td>0.001812</td>\n",
              "      <td>0.112828</td>\n",
              "      <td>1.000000</td>\n",
              "      <td>-0.053342</td>\n",
              "    </tr>\n",
              "    <tr>\n",
              "      <th>overall_satisfaction</th>\n",
              "      <td>-0.015395</td>\n",
              "      <td>-0.047833</td>\n",
              "      <td>-0.009176</td>\n",
              "      <td>-0.040630</td>\n",
              "      <td>-0.014006</td>\n",
              "      <td>0.058781</td>\n",
              "      <td>0.001309</td>\n",
              "      <td>-0.015933</td>\n",
              "      <td>-0.053342</td>\n",
              "      <td>1.000000</td>\n",
              "    </tr>\n",
              "  </tbody>\n",
              "</table>\n",
              "</div>"
            ],
            "text/plain": [
              "                       room_id   host_id  ...  longitude  overall_satisfaction\n",
              "room_id               1.000000  0.662910  ...   0.087574             -0.015395\n",
              "host_id               0.662910  1.000000  ...   0.112137             -0.047833\n",
              "reviews              -0.319680 -0.189155  ...   0.007784             -0.009176\n",
              "accommodates         -0.018116 -0.002814  ...  -0.011435             -0.040630\n",
              "bedrooms             -0.052213 -0.032185  ...   0.035018             -0.014006\n",
              "price                -0.097726 -0.073037  ...  -0.199874              0.058781\n",
              "minstay              -0.001795 -0.001020  ...   0.001812              0.001309\n",
              "latitude              0.008432  0.045435  ...   0.112828             -0.015933\n",
              "longitude             0.087574  0.112137  ...   1.000000             -0.053342\n",
              "overall_satisfaction -0.015395 -0.047833  ...  -0.053342              1.000000\n",
              "\n",
              "[10 rows x 10 columns]"
            ]
          },
          "metadata": {
            "tags": []
          },
          "execution_count": 21
        }
      ]
    },
    {
      "cell_type": "markdown",
      "metadata": {
        "id": "RxCtJw2ql3gE",
        "colab_type": "text"
      },
      "source": [
        ""
      ]
    },
    {
      "cell_type": "code",
      "metadata": {
        "id": "N-8eqCg_fOnL",
        "colab_type": "code",
        "outputId": "2de109f3-ecac-4242-aeee-a588110bbf90",
        "colab": {
          "base_uri": "https://localhost:8080/",
          "height": 373
        }
      },
      "source": [
        "corr=df_clean.corr()\n",
        "sb.heatmap(corr)"
      ],
      "execution_count": 0,
      "outputs": [
        {
          "output_type": "execute_result",
          "data": {
            "text/plain": [
              "<matplotlib.axes._subplots.AxesSubplot at 0x7f10bb508630>"
            ]
          },
          "metadata": {
            "tags": []
          },
          "execution_count": 48
        },
        {
          "output_type": "display_data",
          "data": {
            "image/png": "[encoded data removed]",
            "text/plain": [
              "<Figure size 432x288 with 2 Axes>"
            ]
          },
          "metadata": {
            "tags": [],
            "needs_background": "light"
          }
        }
      ]
    }
  ]
}